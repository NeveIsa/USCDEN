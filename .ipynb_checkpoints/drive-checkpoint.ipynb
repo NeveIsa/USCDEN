{
 "cells": [
  {
   "cell_type": "code",
   "execution_count": 1,
   "id": "38aae083-b53d-41b0-8670-263711e2d3b1",
   "metadata": {
    "tags": []
   },
   "outputs": [],
   "source": [
    "from time import sleep\n",
    "from fb import getfeedback\n",
    "import pandas as pd\n",
    "\n",
    "from selenium import webdriver\n",
    "from selenium.webdriver.common.by import By\n",
    "from selenium.webdriver.support.select import Select\n",
    "\n",
    "# from pyshadow.main import Shadow\n",
    "# from webdriver_manager.chrome import ChromeDriverManager\n",
    "# driver = webdriver.Chrome(ChromeDriverManager().install())\n",
    "\n",
    "# driver = webdriver.Firefox()\n",
    "\n",
    "import pyperclip\n"
   ]
  },
  {
   "cell_type": "code",
   "execution_count": 2,
   "id": "d67aad4e-5d66-4b08-a7f1-829f1728860b",
   "metadata": {
    "tags": []
   },
   "outputs": [],
   "source": [
    "def getstudent():\n",
    "    with open(\"status.txt\") as f:\n",
    "        iloc = int(f.read())\n",
    "    student = pd.read_csv(\"feedback.csv\").iloc[iloc]\n",
    "    name = student[\"Student Name\"]\n",
    "    fb = getfeedback(name)\n",
    "    pyperclip.copy(fb)\n",
    "    # print(name,fb)\n",
    "\n",
    "    return name,iloc\n",
    "\n",
    "# getstudent()"
   ]
  },
  {
   "cell_type": "code",
   "execution_count": 11,
   "id": "2cc4b866-f2e4-471d-9fcc-ed2357965a02",
   "metadata": {
    "tags": []
   },
   "outputs": [],
   "source": [
    "def login():\n",
    "\n",
    "    driver.get(\"https://courses.uscden.net/d2l/lms/dropbox/admin/mark/folder_submissions_users.d2l?db=28199&ou=25314\")\n",
    "\n",
    "    driver.find_element(By.XPATH,'//*[@id=\"userName\"]').send_keys(\"sbmohant@usc.edu\")\n",
    "    driver.find_element(By.XPATH,'//*[@id=\"password\"]').send_keys(\"Sampad@777\")\n",
    "\n",
    "    driver.find_element(By.CLASS_NAME,'d2l-button').click()\n",
    "    sleep(1)\n",
    "    driver.find_element(By.XPATH,'/html/body/header/nav/d2l-navigation/d2l-navigation-main-footer/div/div[1]/div[5]/d2l-dropdown/button/span/span').click()\n",
    "    sleep(1)\n",
    "    driver.find_element(By.XPATH,'/html/body/header/nav/d2l-navigation/d2l-navigation-main-footer/div/div[1]/div[5]/d2l-dropdown/d2l-dropdown-menu/d2l-menu/d2l-menu-item-link[5]').click()\n",
    "    driver.find_element(By.XPATH,'/html/body/div[2]/div/div[2]/div/div/div[2]/form/div/div/div/div/d2l-table-wrapper/table/tbody/tr[8]/th/div/div/div[1]/div/div/div/a').click()\n",
    "\n",
    "def page(i):\n",
    "    Select(driver.find_element(By.XPATH,'//*[@title=\"Page Number\"]')).select_by_value(str(i))\n",
    "    \n",
    "    \n",
    "# login()"
   ]
  },
  {
   "cell_type": "code",
   "execution_count": 4,
   "id": "6255d380-59d8-41e7-bd55-2f65ea5f170e",
   "metadata": {
    "tags": []
   },
   "outputs": [],
   "source": [
    "def dostudent(name):\n",
    "    icount=1\n",
    "    rownum=1\n",
    "    while icount<=200:\n",
    "        studentxpath = f\"/html/body/div[2]/div/div[2]/div/div/div/form/div/div/div[2]/div[3]/div[3]/d2l-table-wrapper/table/tbody/tr[{rownum}]/th/table/tbody/tr/td[1]/a/label\"\n",
    "        evaluatexpath = f\"/html/body/div[2]/div/div[2]/div/div/div/form/div/div/div[2]/div[3]/div[3]/d2l-table-wrapper/table/tbody/tr[{rownum}]/th/table/tbody/tr/td[3]/a\"\n",
    "        try:\n",
    "            foundname=driver.find_element(By.XPATH, studentxpath).text\n",
    "            icount+=1\n",
    "            \n",
    "            if name==foundname:\n",
    "                print(foundname)\n",
    "                driver.find_element(By.XPATH, evaluatexpath).click()\n",
    "                # gradecss='#d2l-uid-75'\n",
    "                return True\n",
    "            \n",
    "        except Exception as e:\n",
    "            pass\n",
    "        finally:\n",
    "            if rownum>1000: break\n",
    "            rownum+=1\n",
    "            \n",
    "    return False\n",
    "        "
   ]
  },
  {
   "cell_type": "code",
   "execution_count": 12,
   "id": "6ee86062-c7fa-4ce0-a20e-a97ef3483c7e",
   "metadata": {
    "tags": []
   },
   "outputs": [
    {
     "name": "stdout",
     "output_type": "stream",
     "text": [
      "Nabar, Deven Parag 236\n"
     ]
    },
    {
     "ename": "KeyboardInterrupt",
     "evalue": "Interrupted by user",
     "output_type": "error",
     "traceback": [
      "\u001b[0;31m---------------------------------------------------------------------------\u001b[0m",
      "\u001b[0;31mKeyboardInterrupt\u001b[0m                         Traceback (most recent call last)",
      "Cell \u001b[0;32mIn[12], line 7\u001b[0m\n\u001b[1;32m      5\u001b[0m \u001b[38;5;28mprint\u001b[39m(name,iloc)\n\u001b[1;32m      6\u001b[0m dostudent(name)\n\u001b[0;32m----> 7\u001b[0m \u001b[38;5;28;43minput\u001b[39;49m\u001b[43m(\u001b[49m\u001b[43m)\u001b[49m\n\u001b[1;32m      8\u001b[0m driver\u001b[38;5;241m.\u001b[39mclose()\n\u001b[1;32m      9\u001b[0m iloc\u001b[38;5;241m+\u001b[39m\u001b[38;5;241m=\u001b[39m\u001b[38;5;241m1\u001b[39m\n",
      "File \u001b[0;32m~/.virtualenvs/web/lib/python3.11/site-packages/ipykernel/kernelbase.py:1191\u001b[0m, in \u001b[0;36mKernel.raw_input\u001b[0;34m(self, prompt)\u001b[0m\n\u001b[1;32m   1189\u001b[0m     msg \u001b[38;5;241m=\u001b[39m \u001b[38;5;124m\"\u001b[39m\u001b[38;5;124mraw_input was called, but this frontend does not support input requests.\u001b[39m\u001b[38;5;124m\"\u001b[39m\n\u001b[1;32m   1190\u001b[0m     \u001b[38;5;28;01mraise\u001b[39;00m StdinNotImplementedError(msg)\n\u001b[0;32m-> 1191\u001b[0m \u001b[38;5;28;01mreturn\u001b[39;00m \u001b[38;5;28;43mself\u001b[39;49m\u001b[38;5;241;43m.\u001b[39;49m\u001b[43m_input_request\u001b[49m\u001b[43m(\u001b[49m\n\u001b[1;32m   1192\u001b[0m \u001b[43m    \u001b[49m\u001b[38;5;28;43mstr\u001b[39;49m\u001b[43m(\u001b[49m\u001b[43mprompt\u001b[49m\u001b[43m)\u001b[49m\u001b[43m,\u001b[49m\n\u001b[1;32m   1193\u001b[0m \u001b[43m    \u001b[49m\u001b[38;5;28;43mself\u001b[39;49m\u001b[38;5;241;43m.\u001b[39;49m\u001b[43m_parent_ident\u001b[49m\u001b[43m[\u001b[49m\u001b[38;5;124;43m\"\u001b[39;49m\u001b[38;5;124;43mshell\u001b[39;49m\u001b[38;5;124;43m\"\u001b[39;49m\u001b[43m]\u001b[49m\u001b[43m,\u001b[49m\n\u001b[1;32m   1194\u001b[0m \u001b[43m    \u001b[49m\u001b[38;5;28;43mself\u001b[39;49m\u001b[38;5;241;43m.\u001b[39;49m\u001b[43mget_parent\u001b[49m\u001b[43m(\u001b[49m\u001b[38;5;124;43m\"\u001b[39;49m\u001b[38;5;124;43mshell\u001b[39;49m\u001b[38;5;124;43m\"\u001b[39;49m\u001b[43m)\u001b[49m\u001b[43m,\u001b[49m\n\u001b[1;32m   1195\u001b[0m \u001b[43m    \u001b[49m\u001b[43mpassword\u001b[49m\u001b[38;5;241;43m=\u001b[39;49m\u001b[38;5;28;43;01mFalse\u001b[39;49;00m\u001b[43m,\u001b[49m\n\u001b[1;32m   1196\u001b[0m \u001b[43m\u001b[49m\u001b[43m)\u001b[49m\n",
      "File \u001b[0;32m~/.virtualenvs/web/lib/python3.11/site-packages/ipykernel/kernelbase.py:1234\u001b[0m, in \u001b[0;36mKernel._input_request\u001b[0;34m(self, prompt, ident, parent, password)\u001b[0m\n\u001b[1;32m   1231\u001b[0m \u001b[38;5;28;01mexcept\u001b[39;00m \u001b[38;5;167;01mKeyboardInterrupt\u001b[39;00m:\n\u001b[1;32m   1232\u001b[0m     \u001b[38;5;66;03m# re-raise KeyboardInterrupt, to truncate traceback\u001b[39;00m\n\u001b[1;32m   1233\u001b[0m     msg \u001b[38;5;241m=\u001b[39m \u001b[38;5;124m\"\u001b[39m\u001b[38;5;124mInterrupted by user\u001b[39m\u001b[38;5;124m\"\u001b[39m\n\u001b[0;32m-> 1234\u001b[0m     \u001b[38;5;28;01mraise\u001b[39;00m \u001b[38;5;167;01mKeyboardInterrupt\u001b[39;00m(msg) \u001b[38;5;28;01mfrom\u001b[39;00m \u001b[38;5;28;01mNone\u001b[39;00m\n\u001b[1;32m   1235\u001b[0m \u001b[38;5;28;01mexcept\u001b[39;00m \u001b[38;5;167;01mException\u001b[39;00m:\n\u001b[1;32m   1236\u001b[0m     \u001b[38;5;28mself\u001b[39m\u001b[38;5;241m.\u001b[39mlog\u001b[38;5;241m.\u001b[39mwarning(\u001b[38;5;124m\"\u001b[39m\u001b[38;5;124mInvalid Message:\u001b[39m\u001b[38;5;124m\"\u001b[39m, exc_info\u001b[38;5;241m=\u001b[39m\u001b[38;5;28;01mTrue\u001b[39;00m)\n",
      "\u001b[0;31mKeyboardInterrupt\u001b[0m: Interrupted by user"
     ]
    }
   ],
   "source": [
    "while True:\n",
    "    name,iloc = getstudent()\n",
    "    print(name,iloc)\n",
    "    \n",
    "    driver = webdriver.Firefox()\n",
    "    login()\n",
    "    \n",
    "    for i in range(1,3):\n",
    "        page(i)\n",
    "        if dostudent(name): break\n",
    "        \n",
    "    input()\n",
    "    driver.close()\n",
    "    iloc+=1\n",
    "    with open(\"status.txt\",'w') as g:\n",
    "        g.write(str(iloc))"
   ]
  },
  {
   "cell_type": "code",
   "execution_count": null,
   "id": "4eba920a-c2a9-4d0c-b7d9-19f51f1c66ae",
   "metadata": {},
   "outputs": [],
   "source": []
  }
 ],
 "metadata": {
  "kernelspec": {
   "display_name": "web",
   "language": "python",
   "name": "web"
  },
  "language_info": {
   "codemirror_mode": {
    "name": "ipython",
    "version": 3
   },
   "file_extension": ".py",
   "mimetype": "text/x-python",
   "name": "python",
   "nbconvert_exporter": "python",
   "pygments_lexer": "ipython3",
   "version": "3.11.3"
  }
 },
 "nbformat": 4,
 "nbformat_minor": 5
}

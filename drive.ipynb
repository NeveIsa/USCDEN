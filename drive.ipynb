{
 "cells": [
  {
   "cell_type": "code",
   "execution_count": 1,
   "id": "38aae083-b53d-41b0-8670-263711e2d3b1",
   "metadata": {
    "tags": []
   },
   "outputs": [],
   "source": [
    "from time import sleep\n",
    "from fb import getfeedback\n",
    "import pandas as pd\n",
    "\n",
    "from selenium import webdriver\n",
    "from selenium.webdriver.common.by import By\n",
    "from selenium.webdriver.support.select import Select\n",
    "\n",
    "# from pyshadow.main import Shadow\n",
    "# from webdriver_manager.chrome import ChromeDriverManager\n",
    "# driver = webdriver.Chrome(ChromeDriverManager().install())\n",
    "\n",
    "# driver = webdriver.Firefox()\n",
    "\n",
    "import pyperclip\n"
   ]
  },
  {
   "cell_type": "code",
   "execution_count": 2,
   "id": "d67aad4e-5d66-4b08-a7f1-829f1728860b",
   "metadata": {
    "tags": []
   },
   "outputs": [],
   "source": [
    "def getstudent():\n",
    "    with open(\"status.txt\") as f:\n",
    "        iloc = int(f.read())\n",
    "    student = pd.read_csv(\"feedback.csv\").iloc[iloc]\n",
    "    name = student[\"Student Name\"]\n",
    "    fb = getfeedback(name)\n",
    "    pyperclip.copy(fb)\n",
    "    # print(name,fb)\n",
    "\n",
    "    return name,iloc\n",
    "\n",
    "# getstudent()"
   ]
  },
  {
   "cell_type": "code",
   "execution_count": 3,
   "id": "2cc4b866-f2e4-471d-9fcc-ed2357965a02",
   "metadata": {
    "tags": []
   },
   "outputs": [],
   "source": [
    "def login(first=True):\n",
    "    \n",
    "    driver.get(\"https://courses.uscden.net/d2l/lms/dropbox/admin/mark/folder_submissions_users.d2l?db=28199&ou=25314\")\n",
    "\n",
    "    if first:\n",
    "    \n",
    "        driver.find_element(By.XPATH,'//*[@id=\"userName\"]').send_keys(\"sbmohant@usc.edu\")\n",
    "        driver.find_element(By.XPATH,'//*[@id=\"password\"]').send_keys(\"Sampad@777\")\n",
    "\n",
    "        driver.find_element(By.CLASS_NAME,'d2l-button').click()\n",
    "        sleep(1)\n",
    "        driver.find_element(By.XPATH,'/html/body/header/nav/d2l-navigation/d2l-navigation-main-footer/div/div[1]/div[5]/d2l-dropdown/button/span/span').click()\n",
    "        sleep(1)\n",
    "        driver.find_element(By.XPATH,'/html/body/header/nav/d2l-navigation/d2l-navigation-main-footer/div/div[1]/div[5]/d2l-dropdown/d2l-dropdown-menu/d2l-menu/d2l-menu-item-link[5]').click()\n",
    "        driver.find_element(By.XPATH,'/html/body/div[2]/div/div[2]/div/div/div[2]/form/div/div/div/div/d2l-table-wrapper/table/tbody/tr[8]/th/div/div/div[1]/div/div/div/a').click()\n",
    "\n",
    "    \n",
    "def page(i):\n",
    "    sleep(0.5)\n",
    "    Select(driver.find_element(By.XPATH,'//*[@title=\"Page Number\"]')).select_by_value(str(i))\n",
    "    \n",
    "    \n",
    "# login()"
   ]
  },
  {
   "cell_type": "code",
   "execution_count": 4,
   "id": "6255d380-59d8-41e7-bd55-2f65ea5f170e",
   "metadata": {
    "tags": []
   },
   "outputs": [],
   "source": [
    "def dostudent(name):\n",
    "    icount=1\n",
    "    rownum=1\n",
    "    while icount<=200:\n",
    "        studentxpath = f\"/html/body/div[2]/div/div[2]/div/div/div/form/div/div/div[2]/div[3]/div[3]/d2l-table-wrapper/table/tbody/tr[{rownum}]/th/table/tbody/tr/td[1]/a/label\"\n",
    "        evaluatexpath = f\"/html/body/div[2]/div/div[2]/div/div/div/form/div/div/div[2]/div[3]/div[3]/d2l-table-wrapper/table/tbody/tr[{rownum}]/th/table/tbody/tr/td[3]/a\"\n",
    "        try:\n",
    "            foundname=driver.find_element(By.XPATH, studentxpath).text\n",
    "            icount+=1\n",
    "            \n",
    "            if name==foundname:\n",
    "                print(foundname)\n",
    "                driver.find_element(By.XPATH, evaluatexpath).click()\n",
    "                # gradecss='#d2l-uid-75'\n",
    "                return True\n",
    "            \n",
    "        except Exception as e:\n",
    "            pass\n",
    "        finally:\n",
    "            if rownum>500: break\n",
    "            rownum+=1\n",
    "            \n",
    "    return False\n",
    "        "
   ]
  },
  {
   "cell_type": "code",
   "execution_count": 7,
   "id": "6ee86062-c7fa-4ce0-a20e-a97ef3483c7e",
   "metadata": {
    "tags": []
   },
   "outputs": [
    {
     "ename": "IndexError",
     "evalue": "single positional indexer is out-of-bounds",
     "output_type": "error",
     "traceback": [
      "\u001b[0;31m---------------------------------------------------------------------------\u001b[0m",
      "\u001b[0;31mIndexError\u001b[0m                                Traceback (most recent call last)",
      "Cell \u001b[0;32mIn[7], line 4\u001b[0m\n\u001b[1;32m      2\u001b[0m login()\n\u001b[1;32m      3\u001b[0m \u001b[38;5;28;01mwhile\u001b[39;00m \u001b[38;5;28;01mTrue\u001b[39;00m:\n\u001b[0;32m----> 4\u001b[0m     name,iloc \u001b[38;5;241m=\u001b[39m \u001b[43mgetstudent\u001b[49m\u001b[43m(\u001b[49m\u001b[43m)\u001b[49m\n\u001b[1;32m      5\u001b[0m     \u001b[38;5;28mprint\u001b[39m(name,iloc)\n\u001b[1;32m      7\u001b[0m     login(first\u001b[38;5;241m=\u001b[39m\u001b[38;5;28;01mFalse\u001b[39;00m)\n",
      "Cell \u001b[0;32mIn[2], line 4\u001b[0m, in \u001b[0;36mgetstudent\u001b[0;34m()\u001b[0m\n\u001b[1;32m      2\u001b[0m \u001b[38;5;28;01mwith\u001b[39;00m \u001b[38;5;28mopen\u001b[39m(\u001b[38;5;124m\"\u001b[39m\u001b[38;5;124mstatus.txt\u001b[39m\u001b[38;5;124m\"\u001b[39m) \u001b[38;5;28;01mas\u001b[39;00m f:\n\u001b[1;32m      3\u001b[0m     iloc \u001b[38;5;241m=\u001b[39m \u001b[38;5;28mint\u001b[39m(f\u001b[38;5;241m.\u001b[39mread())\n\u001b[0;32m----> 4\u001b[0m student \u001b[38;5;241m=\u001b[39m \u001b[43mpd\u001b[49m\u001b[38;5;241;43m.\u001b[39;49m\u001b[43mread_csv\u001b[49m\u001b[43m(\u001b[49m\u001b[38;5;124;43m\"\u001b[39;49m\u001b[38;5;124;43mfeedback.csv\u001b[39;49m\u001b[38;5;124;43m\"\u001b[39;49m\u001b[43m)\u001b[49m\u001b[38;5;241;43m.\u001b[39;49m\u001b[43miloc\u001b[49m\u001b[43m[\u001b[49m\u001b[43miloc\u001b[49m\u001b[43m]\u001b[49m\n\u001b[1;32m      5\u001b[0m name \u001b[38;5;241m=\u001b[39m student[\u001b[38;5;124m\"\u001b[39m\u001b[38;5;124mStudent Name\u001b[39m\u001b[38;5;124m\"\u001b[39m]\n\u001b[1;32m      6\u001b[0m fb \u001b[38;5;241m=\u001b[39m getfeedback(name)\n",
      "File \u001b[0;32m~/.virtualenvs/web/lib/python3.11/site-packages/pandas/core/indexing.py:1103\u001b[0m, in \u001b[0;36m_LocationIndexer.__getitem__\u001b[0;34m(self, key)\u001b[0m\n\u001b[1;32m   1100\u001b[0m axis \u001b[38;5;241m=\u001b[39m \u001b[38;5;28mself\u001b[39m\u001b[38;5;241m.\u001b[39maxis \u001b[38;5;129;01mor\u001b[39;00m \u001b[38;5;241m0\u001b[39m\n\u001b[1;32m   1102\u001b[0m maybe_callable \u001b[38;5;241m=\u001b[39m com\u001b[38;5;241m.\u001b[39mapply_if_callable(key, \u001b[38;5;28mself\u001b[39m\u001b[38;5;241m.\u001b[39mobj)\n\u001b[0;32m-> 1103\u001b[0m \u001b[38;5;28;01mreturn\u001b[39;00m \u001b[38;5;28;43mself\u001b[39;49m\u001b[38;5;241;43m.\u001b[39;49m\u001b[43m_getitem_axis\u001b[49m\u001b[43m(\u001b[49m\u001b[43mmaybe_callable\u001b[49m\u001b[43m,\u001b[49m\u001b[43m \u001b[49m\u001b[43maxis\u001b[49m\u001b[38;5;241;43m=\u001b[39;49m\u001b[43maxis\u001b[49m\u001b[43m)\u001b[49m\n",
      "File \u001b[0;32m~/.virtualenvs/web/lib/python3.11/site-packages/pandas/core/indexing.py:1656\u001b[0m, in \u001b[0;36m_iLocIndexer._getitem_axis\u001b[0;34m(self, key, axis)\u001b[0m\n\u001b[1;32m   1653\u001b[0m     \u001b[38;5;28;01mraise\u001b[39;00m \u001b[38;5;167;01mTypeError\u001b[39;00m(\u001b[38;5;124m\"\u001b[39m\u001b[38;5;124mCannot index by location index with a non-integer key\u001b[39m\u001b[38;5;124m\"\u001b[39m)\n\u001b[1;32m   1655\u001b[0m \u001b[38;5;66;03m# validate the location\u001b[39;00m\n\u001b[0;32m-> 1656\u001b[0m \u001b[38;5;28;43mself\u001b[39;49m\u001b[38;5;241;43m.\u001b[39;49m\u001b[43m_validate_integer\u001b[49m\u001b[43m(\u001b[49m\u001b[43mkey\u001b[49m\u001b[43m,\u001b[49m\u001b[43m \u001b[49m\u001b[43maxis\u001b[49m\u001b[43m)\u001b[49m\n\u001b[1;32m   1658\u001b[0m \u001b[38;5;28;01mreturn\u001b[39;00m \u001b[38;5;28mself\u001b[39m\u001b[38;5;241m.\u001b[39mobj\u001b[38;5;241m.\u001b[39m_ixs(key, axis\u001b[38;5;241m=\u001b[39maxis)\n",
      "File \u001b[0;32m~/.virtualenvs/web/lib/python3.11/site-packages/pandas/core/indexing.py:1589\u001b[0m, in \u001b[0;36m_iLocIndexer._validate_integer\u001b[0;34m(self, key, axis)\u001b[0m\n\u001b[1;32m   1587\u001b[0m len_axis \u001b[38;5;241m=\u001b[39m \u001b[38;5;28mlen\u001b[39m(\u001b[38;5;28mself\u001b[39m\u001b[38;5;241m.\u001b[39mobj\u001b[38;5;241m.\u001b[39m_get_axis(axis))\n\u001b[1;32m   1588\u001b[0m \u001b[38;5;28;01mif\u001b[39;00m key \u001b[38;5;241m>\u001b[39m\u001b[38;5;241m=\u001b[39m len_axis \u001b[38;5;129;01mor\u001b[39;00m key \u001b[38;5;241m<\u001b[39m \u001b[38;5;241m-\u001b[39mlen_axis:\n\u001b[0;32m-> 1589\u001b[0m     \u001b[38;5;28;01mraise\u001b[39;00m \u001b[38;5;167;01mIndexError\u001b[39;00m(\u001b[38;5;124m\"\u001b[39m\u001b[38;5;124msingle positional indexer is out-of-bounds\u001b[39m\u001b[38;5;124m\"\u001b[39m)\n",
      "\u001b[0;31mIndexError\u001b[0m: single positional indexer is out-of-bounds"
     ]
    }
   ],
   "source": [
    "driver = webdriver.Firefox()\n",
    "login()\n",
    "while True:\n",
    "    name,iloc = getstudent()\n",
    "    print(name,iloc)\n",
    "    \n",
    "    login(first=False)\n",
    "    \n",
    "    for i in range(1,4):\n",
    "        page(i)\n",
    "        if dostudent(name): break\n",
    "        \n",
    "    input()\n",
    "    # driver.close()\n",
    "    iloc+=1\n",
    "    with open(\"status.txt\",'w') as g:\n",
    "        g.write(str(iloc))"
   ]
  },
  {
   "cell_type": "code",
   "execution_count": null,
   "id": "4eba920a-c2a9-4d0c-b7d9-19f51f1c66ae",
   "metadata": {},
   "outputs": [],
   "source": []
  }
 ],
 "metadata": {
  "kernelspec": {
   "display_name": "web",
   "language": "python",
   "name": "web"
  },
  "language_info": {
   "codemirror_mode": {
    "name": "ipython",
    "version": 3
   },
   "file_extension": ".py",
   "mimetype": "text/x-python",
   "name": "python",
   "nbconvert_exporter": "python",
   "pygments_lexer": "ipython3",
   "version": "3.11.3"
  }
 },
 "nbformat": 4,
 "nbformat_minor": 5
}
